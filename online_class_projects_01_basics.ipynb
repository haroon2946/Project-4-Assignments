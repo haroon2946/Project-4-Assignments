{
  "cells": [
    {
      "cell_type": "markdown",
      "metadata": {
        "id": "view-in-github",
        "colab_type": "text"
      },
      "source": [
        "<a href=\"https://colab.research.google.com/github/haroon2946/Project-4-Assignments/blob/main/online_class_projects_01_basics.ipynb\" target=\"_parent\"><img src=\"https://colab.research.google.com/assets/colab-badge.svg\" alt=\"Open In Colab\"/></a>"
      ]
    },
    {
      "cell_type": "code",
      "execution_count": null,
      "metadata": {
        "colab": {
          "base_uri": "https://localhost:8080/"
        },
        "id": "fr74B-TzsMYg",
        "outputId": "7f51844b-03f6-474c-ca85-b8580e5997e7"
      },
      "outputs": [
        {
          "name": "stdout",
          "output_type": "stream",
          "text": [
            "00_joke_bot\n",
            "What do you want? joke\n",
            "Why don’t skeletons fight each other? \n",
            " Because they don’t have the guts! 😆\n"
          ]
        }
      ],
      "source": [
        "print(\"00_joke_bot\")\n",
        "\n",
        "PROMPT: str = \"What do you want? \"\n",
        "JOKE:str = \"Why don’t skeletons fight each other? \\n Because they don’t have the guts! 😆\"\n",
        "SORRY:str = \"Sorry I only tell jokes.\"\n",
        "\n",
        "def main():\n",
        "  user_input = input(PROMPT)\n",
        "  user_input = user_input.strip().lower()\n",
        "\n",
        "  if \"joke\" in user_input:\n",
        "    print(JOKE)\n",
        "  else:\n",
        "    print(SORRY)\n",
        "\n",
        "if __name__ == \"__main__\":\n",
        "  main()"
      ]
    },
    {
      "cell_type": "code",
      "execution_count": null,
      "metadata": {
        "colab": {
          "base_uri": "https://localhost:8080/"
        },
        "id": "kJYkwXxByhiH",
        "outputId": "44d3e705-c641-443a-fa1b-dd5003123c2c"
      },
      "outputs": [
        {
          "name": "stdout",
          "output_type": "stream",
          "text": [
            "01_double_it\n",
            "Enter a number: 5\n",
            "10\n",
            "20\n",
            "40\n",
            "80\n",
            "160\n"
          ]
        }
      ],
      "source": [
        "print(\"01_double_it\")\n",
        "\n",
        "def main():\n",
        "  user_value = int(input(\"Enter a number: \"))\n",
        "  while user_value < 100:\n",
        "    user_value = user_value * 2\n",
        "    print(user_value)\n",
        "\n",
        "if __name__ == \"__main__\":\n",
        "  main()"
      ]
    },
    {
      "cell_type": "code",
      "execution_count": null,
      "metadata": {
        "colab": {
          "base_uri": "https://localhost:8080/"
        },
        "id": "2EFckbcVy0Rn",
        "outputId": "f5e3906e-7a59-41bf-8ddf-86a43e177ee7"
      },
      "outputs": [
        {
          "name": "stdout",
          "output_type": "stream",
          "text": [
            "02_liftoff\n",
            "10 9 8 7 6 5 4 3 2 1 liftoff🚀\n"
          ]
        }
      ],
      "source": [
        "print(\"02_liftoff\")\n",
        "\n",
        "def main():\n",
        "  for i in range(10,0,-1):\n",
        "    print(i,end = \" \")\n",
        "  print(\"liftoff🚀\")\n",
        "\n",
        "if __name__ == \"__main__\":\n",
        "  main()"
      ]
    },
    {
      "cell_type": "code",
      "execution_count": null,
      "metadata": {
        "colab": {
          "base_uri": "https://localhost:8080/"
        },
        "id": "RlsMPDjp0FlQ",
        "outputId": "44b14da1-2072-4762-eead-24d53b2fa403"
      },
      "outputs": [
        {
          "name": "stdout",
          "output_type": "stream",
          "text": [
            "04_random_numbers\n",
            "94 61 48 12 96 8 34 48 51 99 "
          ]
        }
      ],
      "source": [
        "import random\n",
        "print(\"04_random_numbers\")\n",
        "\n",
        "def main():\n",
        "  for _ in range(10):\n",
        "    print(random.randint(1,100),end = \" \")\n",
        "\n",
        "if __name__ == \"__main__\":\n",
        "  main()"
      ]
    },
    {
      "cell_type": "code",
      "execution_count": null,
      "metadata": {
        "colab": {
          "background_save": true,
          "base_uri": "https://localhost:8080/"
        },
        "id": "QI6ndOhazEBu",
        "outputId": "1ee2d9a3-729f-40ae-c996-692cc2c5b7c5"
      },
      "outputs": [
        {
          "name": "stdout",
          "output_type": "stream",
          "text": [
            "03_guess_my_number.\n",
            "I am thinking of a number between 1 and 100....\n",
            "Your guess is too high.\n",
            "Your guess is too high.\n",
            "Your guess is too high.\n",
            "Your guess is too high.\n",
            "Your guess is too low.\n",
            "Your guess is too low.\n"
          ]
        }
      ],
      "source": [
        "import random\n",
        "\n",
        "print(\"03_guess_my_number.\")\n",
        "\n",
        "def main():\n",
        "  secret_number = random.randint(1,100)\n",
        "  print(\"I am thinking of a number between 1 and 100....\")\n",
        "\n",
        "  guess = int(input(\"Enter a guess: \"))\n",
        "\n",
        "  while guess != secret_number:\n",
        "    if guess < secret_number:\n",
        "      print(\"Your guess is too low.\")\n",
        "    else:\n",
        "      print(\"Your guess is too high.\")\n",
        "    guess = int(input(\"Enter a guess: \"))\n",
        "\n",
        "  print(f\"Congratulation! The number was {secret_number}\")\n",
        "\n",
        "\n",
        "if __name__ == \"__main__\":\n",
        "  main()"
      ]
    }
  ],
  "metadata": {
    "colab": {
      "provenance": [],
      "authorship_tag": "ABX9TyMRbgLZWkVd5SnZ5R0LlMm/",
      "include_colab_link": true
    },
    "kernelspec": {
      "display_name": "Python 3",
      "name": "python3"
    },
    "language_info": {
      "name": "python"
    }
  },
  "nbformat": 4,
  "nbformat_minor": 0
}