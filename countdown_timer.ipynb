{
  "nbformat": 4,
  "nbformat_minor": 0,
  "metadata": {
    "colab": {
      "provenance": [],
      "authorship_tag": "ABX9TyPdp7HXcr9Lz09G8vaXBI+H",
      "include_colab_link": true
    },
    "kernelspec": {
      "name": "python3",
      "display_name": "Python 3"
    },
    "language_info": {
      "name": "python"
    }
  },
  "cells": [
    {
      "cell_type": "markdown",
      "metadata": {
        "id": "view-in-github",
        "colab_type": "text"
      },
      "source": [
        "<a href=\"https://colab.research.google.com/github/haroon2946/Project-4-Assignments/blob/main/countdown_timer.ipynb\" target=\"_parent\"><img src=\"https://colab.research.google.com/assets/colab-badge.svg\" alt=\"Open In Colab\"/></a>"
      ]
    },
    {
      "cell_type": "code",
      "execution_count": 1,
      "metadata": {
        "colab": {
          "base_uri": "https://localhost:8080/"
        },
        "id": "9-st1dtYcO1L",
        "outputId": "0f858f64-e868-4af4-cf69-009f81afd224"
      },
      "outputs": [
        {
          "output_type": "stream",
          "name": "stdout",
          "text": [
            "\n",
            " ⏲️⏰⏱️ Welcome to the Countdown Timer. ⏲️⏰⏱️ \n",
            "\n",
            "Enter the time in seconds:30\n",
            "⏳ 00:01 ⏳\n",
            "🚨 Time's up ⏰\n"
          ]
        }
      ],
      "source": [
        "import time\n",
        "print(\"\\n ⏲️⏰⏱️ Welcome to the Countdown Timer. ⏲️⏰⏱️ \\n\")\n",
        "\n",
        "def countdown_timer(seconds):\n",
        "  while seconds:\n",
        "    mins,secs = divmod(seconds,60)\n",
        "    time_display = f\"{mins:02d}:{secs:02d}\"\n",
        "    print(f\"\\r⏳ {time_display} ⏳\", end=\"\")\n",
        "    time.sleep(1)\n",
        "    seconds -= 1\n",
        "  print(\"\\n🚨 Time's up ⏰\")\n",
        "try:\n",
        "    total_time = int(input(\"Enter the time in seconds:\"))\n",
        "    countdown_timer(total_time)\n",
        "except ValueError:\n",
        "    print(\"❌ Invalid input! Please enter a valid input!\")"
      ]
    }
  ]
}