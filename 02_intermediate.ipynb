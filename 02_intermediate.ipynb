{
  "cells": [
    {
      "cell_type": "markdown",
      "metadata": {
        "id": "view-in-github",
        "colab_type": "text"
      },
      "source": [
        "<a href=\"https://colab.research.google.com/github/haroon2946/Project-4-Assignments/blob/main/02_intermediate.ipynb\" target=\"_parent\"><img src=\"https://colab.research.google.com/assets/colab-badge.svg\" alt=\"Open In Colab\"/></a>"
      ]
    },
    {
      "cell_type": "code",
      "execution_count": null,
      "metadata": {
        "colab": {
          "base_uri": "https://localhost:8080/"
        },
        "id": "b0agsyYP8EUv",
        "outputId": "d069bd1d-9903-430b-ef48-c0b0f663017f"
      },
      "outputs": [
        {
          "name": "stdout",
          "output_type": "stream",
          "text": [
            "High Low Game\n",
            "Welcome to the High Low Game\n",
            "*****************************\n",
            "Round 1\n",
            "Your number is 69\n",
            "Do you think your number is higher or lower than the computer's number? higher\n",
            "You were right! The computer's number was 41\n",
            "Your score is now 1\n",
            "\n",
            "Round 2\n",
            "Your number is 89\n",
            "Do you think your number is higher or lower than the computer's number? higher\n",
            "You were right! The computer's number was 69\n",
            "Your score is now 2\n",
            "\n",
            "Round 3\n",
            "Your number is 30\n",
            "Do you think your number is higher or lower than the computer's number? lower\n",
            "That's incorrect.The computer's number was 10\n",
            "Your score is now 2\n",
            "\n",
            "Round 4\n",
            "Your number is 34\n",
            "Do you think your number is higher or lower than the computer's number? higher\n",
            "That's incorrect.The computer's number was 45\n",
            "Your score is now 2\n",
            "\n",
            "Round 5\n",
            "Your number is 42\n",
            "Do you think your number is higher or lower than the computer's number? lower\n",
            "You were right! The computer's number was 89\n",
            "Your score is now 3\n",
            "\n",
            "Thanks for playing!\n"
          ]
        }
      ],
      "source": [
        "import random\n",
        "print(\"High Low Game\")\n",
        "\n",
        "round = 5\n",
        "\n",
        "def main():\n",
        "  print(\"Welcome to the High Low Game\")\n",
        "  print(\"*****************************\")\n",
        "\n",
        "  your_score = 0\n",
        "\n",
        "  for i in range(round):\n",
        "    print(\"Round\", i + 1)\n",
        "\n",
        "    computer_number : int = random.randint(1,100)\n",
        "    your_number:int = random.randint(1,100)\n",
        "    print(\"Your number is\" , your_number)\n",
        "\n",
        "    choice:str = input(\"\"\"Do you think your number is higher or lower than the computer's number? \"\"\")\n",
        "    higher_and_correct:bool = choice == \"higher\" and your_number > computer_number\n",
        "    lower_and_correct:bool = choice == \"lower\" and your_number < computer_number\n",
        "\n",
        "    if higher_and_correct or lower_and_correct:\n",
        "      print(\"You were right! The computer\\'s number was\",computer_number)\n",
        "      your_score += 1\n",
        "    else:\n",
        "      print(\"That\\'s incorrect.The computer\\'s number was\",computer_number)\n",
        "\n",
        "    print(\"Your score is now\",your_score)\n",
        "    print()\n",
        "\n",
        "  print(\"Thanks for playing!\")\n",
        "\n",
        "\n",
        "if __name__ == \"__main__\":\n",
        "  main()"
      ]
    },
    {
      "cell_type": "code",
      "execution_count": null,
      "metadata": {
        "colab": {
          "base_uri": "https://localhost:8080/"
        },
        "id": "tVTgDkSu-_gi",
        "outputId": "e8e99633-7028-45c2-cc20-668c0ded3ae9"
      },
      "outputs": [
        {
          "name": "stdout",
          "output_type": "stream",
          "text": [
            "Planetary Weight Calculator\n",
            "Enter your weight on Earth: 23\n",
            "\n",
            " Select a planet\n",
            "- Mercury\n",
            "- Venus\n",
            "- Mars\n",
            "- Jupiter\n",
            "- Saturn\n",
            "- Uranus\n",
            "- Neptune\n",
            "Enter the name of the planet: jupiter\n",
            "Your weight on Jupiter is 53.82kg\n",
            "Welcome to the Planetary Weight Calculator\n",
            "******************************************\n"
          ]
        }
      ],
      "source": [
        "print(\"Planetary Weight Calculator\")\n",
        "\n",
        "def main():\n",
        "  print(\"Welcome to the Planetary Weight Calculator\")\n",
        "  print(\"******************************************\")\n",
        "\n",
        "earth_weight = float(input(\"Enter your weight on Earth: \"))\n",
        "\n",
        "gravity_ratios = {\n",
        "    \"Mercury\":0.38,\n",
        "    \"Venus\":0.91,\n",
        "    \"Mars\":0.38,\n",
        "    \"Jupiter\":2.34,\n",
        "    \"Saturn\":1.06,\n",
        "    \"Uranus\":0.92,\n",
        "    \"Neptune\":1.19\n",
        "}\n",
        "\n",
        "print(\"\\n Select a planet\")\n",
        "for planet in gravity_ratios:\n",
        "    print(f'- {planet}')\n",
        "\n",
        "planet_choice = input(\"Enter the name of the planet: \").title()\n",
        "\n",
        "if planet_choice in gravity_ratios:\n",
        "    new_weight = earth_weight * gravity_ratios[planet_choice]\n",
        "    print(f'Your weight on {planet_choice} is {new_weight:.2f}kg')\n",
        "else:\n",
        "  print(\"Invalid planet choice\")\n",
        "\n",
        "if __name__ == \"__main__\":\n",
        "  main()"
      ]
    },
    {
      "cell_type": "code",
      "execution_count": null,
      "metadata": {
        "colab": {
          "background_save": true,
          "base_uri": "https://localhost:8080/"
        },
        "id": "L8MOz4Lq_0TB",
        "outputId": "2e0e0c1e-c808-4b3e-d352-19e01fd2149b"
      },
      "outputs": [
        {
          "name": "stdout",
          "output_type": "stream",
          "text": [
            "Lists and Dicts\n",
            "Current list  ['apple', 'mango', 'orange', 'pear', 'peach']\n",
            "Select an operation\n",
            "1. Access Element\n",
            "2. Modify Element\n",
            "3. Slice List\n",
            "4. Quit\n",
            "Element at index 1 modified from mango to watermelon\n",
            "Current list  ['apple', 'watermelon', 'orange', 'pear', 'peach']\n",
            "Select an operation\n",
            "1. Access Element\n",
            "2. Modify Element\n",
            "3. Slice List\n",
            "4. Quit\n"
          ]
        }
      ],
      "source": [
        "print(\"Lists and Dicts\")\n",
        "\n",
        "my_list = [\"apple\",\"mango\",\"orange\",\"pear\",\"peach\"]\n",
        "\n",
        "def access_element(my_list,index):\n",
        "  \"\"\"Returns the element at the specified index, or an error message if out of range.\"\"\"\n",
        "  if 0 <= index < len(my_list):\n",
        "    return f'Element at index {index}: {my_list[index]}'\n",
        "  return \"Index out of range\"\n",
        "\n",
        "def modify_element(my_list,index,new_value):\n",
        "  \"\"\"Modifies the element at the specified index with the new value.\"\"\"\n",
        "  if 0 <= index < len(my_list):\n",
        "    old_value = my_list[index]\n",
        "    my_list[index] = new_value\n",
        "    return f'Element at index {index} modified from {old_value} to {new_value}'\n",
        "  return \"Index out of range\"\n",
        "\n",
        "def slice_list(my_list,start,end):\n",
        "  \"\"\"Returns a new list containing the elements from the start index to the end index (exclusive).\"\"\"\n",
        "  if 0 <= start < len(my_list) and 0 <= end <= len(my_list):\n",
        "    return f'Sliced list: {my_list[start:end]}'\n",
        "  return(\"Invalid slice indicates!\")\n",
        "\n",
        "def list_game():\n",
        "  print(\"\\n Welcome to the list maniputlation\")\n",
        "\n",
        "my_list = [\"apple\",\"mango\",\"orange\",\"pear\",\"peach\"]\n",
        "\n",
        "while True:\n",
        "    print(\"Current list \" , my_list)\n",
        "\n",
        "    print(\"Select an operation\")\n",
        "    print(\"1. Access Element\")\n",
        "    print(\"2. Modify Element\")\n",
        "    print(\"3. Slice List\")\n",
        "    print(\"4. Quit\")\n",
        "\n",
        "    choice = input(\"Enter your choice (1-4): \")\n",
        "\n",
        "    if choice == \"1\":\n",
        "        index = int(input(\"Enter the index of the element you want to access: \"))\n",
        "        print(access_element(my_list,index))\n",
        "    elif choice == \"2\":\n",
        "        index = int(input(\"Enter the index of the element you want to modify: \"))\n",
        "        new_value = input(\"Enter the new value for the element: \")\n",
        "        print(modify_element(my_list,index,new_value))\n",
        "    elif choice == \"3\":\n",
        "        start = int(input(\"Enter the start index for the slice: \"))\n",
        "        end = int(input(\"Enter the end index for the slice: \"))\n",
        "        print(slice_list(my_list,start,end))\n",
        "    elif choice == \"4\":\n",
        "        print(\"Exiting the game,Thanks for playing.\")\n",
        "        break\n",
        "    else:\n",
        "        print(\"Invalid choice! please enter a number between i to 4.\")\n",
        "\n",
        "\n",
        "if __name__ == \"__main__\":\n",
        "    list_game()"
      ]
    }
  ],
  "metadata": {
    "colab": {
      "provenance": [],
      "authorship_tag": "ABX9TyNLCzBMhsr9o41RVSeCk5ci",
      "include_colab_link": true
    },
    "kernelspec": {
      "display_name": "Python 3",
      "name": "python3"
    },
    "language_info": {
      "name": "python"
    }
  },
  "nbformat": 4,
  "nbformat_minor": 0
}