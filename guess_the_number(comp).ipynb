{
  "nbformat": 4,
  "nbformat_minor": 0,
  "metadata": {
    "colab": {
      "provenance": [],
      "authorship_tag": "ABX9TyM6rYV4cP6Sr++D/z697Crq",
      "include_colab_link": true
    },
    "kernelspec": {
      "name": "python3",
      "display_name": "Python 3"
    },
    "language_info": {
      "name": "python"
    }
  },
  "cells": [
    {
      "cell_type": "markdown",
      "metadata": {
        "id": "view-in-github",
        "colab_type": "text"
      },
      "source": [
        "<a href=\"https://colab.research.google.com/github/haroon2946/Project-4-Assignments/blob/main/guess_the_number(comp).ipynb\" target=\"_parent\"><img src=\"https://colab.research.google.com/assets/colab-badge.svg\" alt=\"Open In Colab\"/></a>"
      ]
    },
    {
      "cell_type": "code",
      "execution_count": null,
      "metadata": {
        "id": "gmpEm6SndUKp"
      },
      "outputs": [],
      "source": [
        "import random\n",
        "\n",
        "print(\"\\n ✨Welcome to the Number Guessing Game.✨ \\n\")\n",
        "print(\"\\n 💻 Computer will try to guess your number. \\n\")\n",
        "\n",
        "low = 1\n",
        "high = 10\n",
        "\n",
        "print(\"🤔 Think of a number between 1 and 10, and 💻 will try to guess it!\")\n",
        "\n",
        "while low <= high:\n",
        "    guess = random.randint(low, high)\n",
        "    print(f\"\\n🤖 Is your number {guess}?\")\n",
        "\n",
        "    feedback = input(\" 👉 Enter 'h' for too high, 'l' for too low, or 'c' if correct: \").lower()\n",
        "\n",
        "    if feedback == 'h':\n",
        "        high = guess - 1\n",
        "    elif feedback == 'l':\n",
        "        low = guess + 1\n",
        "    elif feedback == 'c':\n",
        "        print(f\"\\n🎉 Yay! 💻 guessed the number {guess} correctly. 🎉\")\n",
        "        break\n",
        "    else:\n",
        "        print(\"⚠️ Invalid input. Please enter only 'h', 'l', or 'c'. 🚫\")\n",
        "\n",
        "if low > high:\n",
        "    print(\"\\n😅 Hmm... It seems there was a misunderstanding or incorrect feedback. Let's try again! 🔄\")\n"
      ]
    }
  ]
}